{
 "cells": [
  {
   "cell_type": "code",
   "execution_count": 1,
   "id": "f81f78b0",
   "metadata": {},
   "outputs": [
    {
     "name": "stdout",
     "output_type": "stream",
     "text": [
      "Requirement already satisfied: face_recognition in c:\\users\\helmi\\anaconda3\\lib\\site-packages (1.3.0)\n",
      "Requirement already satisfied: face-recognition-models>=0.3.0 in c:\\users\\helmi\\anaconda3\\lib\\site-packages (from face_recognition) (0.3.0)\n",
      "Requirement already satisfied: Click>=6.0 in c:\\users\\helmi\\anaconda3\\lib\\site-packages (from face_recognition) (8.0.4)\n",
      "Requirement already satisfied: dlib>=19.7 in c:\\users\\helmi\\anaconda3\\lib\\site-packages (from face_recognition) (19.24.0)\n",
      "Requirement already satisfied: numpy in c:\\users\\helmi\\anaconda3\\lib\\site-packages (from face_recognition) (1.24.3)\n",
      "Requirement already satisfied: Pillow in c:\\users\\helmi\\anaconda3\\lib\\site-packages (from face_recognition) (9.4.0)\n",
      "Requirement already satisfied: colorama in c:\\users\\helmi\\anaconda3\\lib\\site-packages (from Click>=6.0->face_recognition) (0.4.6)\n"
     ]
    }
   ],
   "source": [
    "!pip install face_recognition"
   ]
  },
  {
   "cell_type": "code",
   "execution_count": 2,
   "id": "36d2dcbb",
   "metadata": {},
   "outputs": [
    {
     "name": "stdout",
     "output_type": "stream",
     "text": [
      "Face Encoding for the Known Person:\n",
      "-0.09364, 0.13535, 0.15257, -0.00180, -0.02661, -0.01730, -0.08461, -0.13162, 0.13644, -0.08900, 0.30951, -0.00387, -0.14130, -0.11285, -0.00378, 0.12530, -0.17534, -0.10263, -0.10469, -0.01644, 0.02204, -0.06003, 0.03292, -0.05259, -0.15848, -0.35822, -0.09165, -0.04276, 0.01997, -0.06434, -0.07636, 0.02620, -0.21488, -0.06593, -0.02699, 0.05474, -0.03230, 0.01421, 0.15283, -0.01736, -0.26354, 0.15274, 0.00768, 0.24830, 0.26376, 0.02443, 0.00228, -0.07517, 0.12199, -0.17252, -0.00273, 0.20528, 0.15912, 0.06222, 0.02734, -0.05845, -0.00430, 0.12766, -0.02902, 0.00733, 0.10533, -0.07776, 0.02748, -0.03690, 0.15634, 0.07430, -0.15146, -0.09802, 0.01969, -0.03238, -0.04658, 0.06398, -0.19058, -0.20288, -0.33406, 0.04403, 0.44868, 0.05929, -0.24630, -0.00905, -0.13585, 0.04678, 0.12398, 0.11141, -0.06253, -0.01244, -0.07431, 0.02366, 0.22692, -0.02698, -0.04327, 0.18140, -0.01491, 0.11411, -0.05495, 0.04001, -0.02852, 0.02680, -0.11565, 0.02671, -0.00314, -0.02387, -0.02852, 0.09232, -0.19980, 0.15782, 0.08302, 0.12379, 0.07983, 0.06683, -0.02490, -0.02130, 0.08441, -0.28595, 0.22571, 0.25404, 0.00225, 0.06639, 0.14654, 0.01272, -0.03338, 0.03908, -0.14532, -0.04821, 0.04174, -0.02367, 0.08133, -0.00718\n"
     ]
    }
   ],
   "source": [
    "import face_recognition\n",
    "import numpy as np\n",
    "from PIL import Image\n",
    "import io\n",
    "import ipywidgets as widgets\n",
    "from IPython.display import display, clear_output\n",
    "\n",
    "# Function to get face encodings from an image\n",
    "def get_face_encodings_from_image(uploaded_file):\n",
    "    img = Image.open(io.BytesIO(uploaded_file['content']))  # Use 'content' key to access the file content\n",
    "    image = np.array(img)\n",
    "    \n",
    "    # Detect face locations and compute face encodings\n",
    "    face_locations = face_recognition.face_locations(image)\n",
    "    face_encodings = face_recognition.face_encodings(image, face_locations)\n",
    "    \n",
    "    return face_encodings\n",
    "\n",
    "# Function to format face encoding as a string\n",
    "def format_face_encoding(encoding):\n",
    "    formatted_encoding = [f'{value:.5f}' for value in encoding]\n",
    "    return ', '.join(formatted_encoding)\n",
    "\n",
    "# Function to handle file upload and face encoding retrieval\n",
    "def handle_file_upload(change):\n",
    "    clear_output()\n",
    "    \n",
    "    uploaded_file = file_upload.value[0]  # Access the first uploaded file\n",
    "    \n",
    "    # Get face encodings from the uploaded image\n",
    "    face_encodings = get_face_encodings_from_image(uploaded_file)\n",
    "    \n",
    "    if len(face_encodings) > 0:\n",
    "        # Print the face encoding values for the first detected face in a user-friendly format\n",
    "        formatted_encoding = format_face_encoding(face_encodings[0])\n",
    "        print(\"Face Encoding for the Known Person:\")\n",
    "        print(formatted_encoding)\n",
    "    else:\n",
    "        print(\"No face encodings found in the uploaded image.\")\n",
    "\n",
    "\n",
    "# Create a file upload button\n",
    "file_upload = widgets.FileUpload()\n",
    "file_upload.observe(handle_file_upload, names='value')\n",
    "\n",
    "# Display the file upload button\n",
    "display(file_upload)\n"
   ]
  },
  {
   "cell_type": "code",
   "execution_count": null,
   "id": "50dd0010",
   "metadata": {},
   "outputs": [],
   "source": []
  }
 ],
 "metadata": {
  "kernelspec": {
   "display_name": "Python 3 (ipykernel)",
   "language": "python",
   "name": "python3"
  },
  "language_info": {
   "codemirror_mode": {
    "name": "ipython",
    "version": 3
   },
   "file_extension": ".py",
   "mimetype": "text/x-python",
   "name": "python",
   "nbconvert_exporter": "python",
   "pygments_lexer": "ipython3",
   "version": "3.11.5"
  }
 },
 "nbformat": 4,
 "nbformat_minor": 5
}
